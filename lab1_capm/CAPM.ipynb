{
 "cells": [
  {
   "cell_type": "markdown",
   "metadata": {},
   "source": [
    "# CAPM"
   ]
  },
  {
   "cell_type": "markdown",
   "metadata": {},
   "source": [
    "* Goal: a brief walkthrough of CAPM and APT using real stock data\n",
    "* What you will learn:\n",
    "    - Data wrangling\n",
    "    - CAPM models\n",
    "    - ggplot "
   ]
  },
  {
   "cell_type": "markdown",
   "metadata": {},
   "source": [
    "## load packages"
   ]
  },
  {
   "cell_type": "code",
   "execution_count": 1,
   "metadata": {
    "collapsed": false
   },
   "outputs": [
    {
     "name": "stderr",
     "output_type": "stream",
     "text": [
      "Loading required package: dplyr\n",
      "\n",
      "Attaching package: ‘dplyr’\n",
      "\n",
      "The following objects are masked from ‘package:stats’:\n",
      "\n",
      "    filter, lag\n",
      "\n",
      "The following objects are masked from ‘package:base’:\n",
      "\n",
      "    intersect, setdiff, setequal, union\n",
      "\n",
      "Loading required package: ggplot2\n",
      "Loading required package: tidyr\n",
      "Loading required package: quadprog\n"
     ]
    }
   ],
   "source": [
    "require('dplyr')\n",
    "require('ggplot2')\n",
    "require('tidyr')\n",
    "require('quadprog')"
   ]
  },
  {
   "cell_type": "markdown",
   "metadata": {},
   "source": [
    "## set figure size"
   ]
  },
  {
   "cell_type": "code",
   "execution_count": 2,
   "metadata": {
    "collapsed": false
   },
   "outputs": [],
   "source": [
    "options(repr.plot.width=7, repr.plot.height=5)"
   ]
  },
  {
   "cell_type": "markdown",
   "metadata": {},
   "source": [
    "## Get data online\n",
    "Data can be obtained from here: https://stooq.com/db/h/"
   ]
  },
  {
   "cell_type": "markdown",
   "metadata": {},
   "source": [
    "## Read data in raw format"
   ]
  },
  {
   "cell_type": "code",
   "execution_count": 3,
   "metadata": {
    "collapsed": false
   },
   "outputs": [
    {
     "name": "stdout",
     "output_type": "stream",
     "text": [
      "        Date   Open   High    Low  Close   Volume OpenInt\n",
      "1 1999-11-18 30.645 33.679 26.942 29.636 66425227       0\n",
      "2 1999-11-19 28.922 28.962 26.812 27.196 16178900       0\n",
      "3 1999-11-22 27.824 29.636 26.984 29.636  6985802       0\n",
      "4 1999-11-23 28.624 29.381 26.942 26.942  6346195       0\n",
      "5 1999-11-24 27.023 28.246 26.942 27.655  5143586       0\n",
      "6 1999-11-26 27.533 27.950 27.448 27.745  1836720       0\n",
      "[1] 4565 1996\n"
     ]
    }
   ],
   "source": [
    "options(warn = -1)\n",
    "path =  './data'\n",
    "# read the stock open into a table\n",
    "files = list.files(path = path, pattern = '*.txt')\n",
    "files_with_path = lapply(files, function(x) paste(path, x, sep = '/'))\n",
    "print(read.csv(files_with_path[[1]]) %>% head)\n",
    "stock_prices = read.csv(files_with_path[[1]]) %>% select('Date')\n",
    "for (i in 1:length(files)){\n",
    "    ticker = strsplit(files[[i]], split = '\\\\.')[[1]][1]\n",
    "    a = tryCatch({read.csv(files_with_path[[i]]) %>% select('Date', 'Open')}, error = function(e) {return(NULL)})\n",
    "    if (is.null(a)) {\n",
    "        next\n",
    "    }\n",
    "    names(a)[2] = ticker\n",
    "    stock_prices = stock_prices %>% left_join(a, by = c('Date' = 'Date')) \n",
    "}\n",
    "print(dim(stock_prices))"
   ]
  },
  {
   "cell_type": "markdown",
   "metadata": {},
   "source": [
    "## take a look of missing value rates"
   ]
  },
  {
   "cell_type": "code",
   "execution_count": 4,
   "metadata": {
    "collapsed": false
   },
   "outputs": [
    {
     "name": "stderr",
     "output_type": "stream",
     "text": [
      "`stat_bin()` using `bins = 30`. Pick better value with `binwidth`.\n"
     ]
    },
    {
     "data": {},
     "metadata": {},
     "output_type": "display_data"
    },
    {
     "data": {
      "image/png": "[encoded data removed]",
      "text/plain": [
       "plot without title"
      ]
     },
     "metadata": {},
     "output_type": "display_data"
    }
   ],
   "source": [
    "missing_info = stock_prices %>% gather_(key_col = 'Stock', value_col = 'Open', gather_cols = names(stock_prices)[-1]) %>%\n",
    "group_by(Stock) %>% summarise(missing_rate = mean(is.na(Open))) \n",
    "missing_info %>% ggplot() + \n",
    "geom_histogram(aes(x = missing_rate), title = 'missing rate of stocks')"
   ]
  },
  {
   "cell_type": "markdown",
   "metadata": {},
   "source": [
    "## dealing with missing values"
   ]
  },
  {
   "cell_type": "code",
   "execution_count": 5,
   "metadata": {
    "collapsed": false
   },
   "outputs": [
    {
     "name": "stdout",
     "output_type": "stream",
     "text": [
      "[1] 2686  703\n"
     ]
    },
    {
     "data": {
      "text/html": [
       "<table>\n",
       "<thead><tr><th scope=col>Date</th><th scope=col>a</th><th scope=col>aa</th><th scope=col>aan</th><th scope=col>aap</th><th scope=col>aav</th><th scope=col>ab</th><th scope=col>abb</th><th scope=col>abc</th><th scope=col>abg</th><th scope=col>⋯</th><th scope=col>kgc</th><th scope=col>kim</th><th scope=col>kmb</th><th scope=col>kmm</th><th scope=col>kmt</th><th scope=col>kmx</th><th scope=col>knd</th><th scope=col>knl</th><th scope=col>ko</th><th scope=col>kof</th></tr></thead>\n",
       "<tbody>\n",
       "\t<tr><td>2005-04-27</td><td>14.333    </td><td>60.258    </td><td>11.949    </td><td>34.545    </td><td>15.50     </td><td>27.045    </td><td>4.5399    </td><td>13.553    </td><td>14.16     </td><td>⋯         </td><td>5.1399    </td><td>20.175    </td><td>48.848    </td><td>6.2663    </td><td>19.714    </td><td>14.28     </td><td>20.627    </td><td>14.531    </td><td>17.352    </td><td>20.366    </td></tr>\n",
       "\t<tr><td>2005-04-28</td><td>14.211    </td><td>59.610    </td><td>13.850    </td><td>34.881    </td><td>15.12     </td><td>27.134    </td><td>4.5873    </td><td>13.666    </td><td>14.00     </td><td>⋯         </td><td>5.0045    </td><td>20.477    </td><td>49.124    </td><td>6.2782    </td><td>19.583    </td><td>14.12     </td><td>22.967    </td><td>14.237    </td><td>17.247    </td><td>20.307    </td></tr>\n",
       "\t<tr><td>2005-05-02</td><td>13.978    </td><td>60.842    </td><td>14.380    </td><td>35.079    </td><td>14.60     </td><td>27.045    </td><td>4.6586    </td><td>13.842    </td><td>13.65     </td><td>⋯         </td><td>5.1788    </td><td>20.588    </td><td>49.409    </td><td>6.2482    </td><td>19.826    </td><td>13.60     </td><td>22.790    </td><td>13.613    </td><td>17.595    </td><td>19.723    </td></tr>\n",
       "\t<tr><td>2005-05-04</td><td>14.279    </td><td>60.927    </td><td>14.645    </td><td>35.019    </td><td>14.69     </td><td>26.162    </td><td>4.6745    </td><td>13.944    </td><td>13.92     </td><td>⋯         </td><td>5.3433    </td><td>20.739    </td><td>49.416    </td><td>6.2725    </td><td>19.669    </td><td>14.03     </td><td>23.538    </td><td>13.737    </td><td>17.791    </td><td>19.552    </td></tr>\n",
       "\t<tr><td>2005-05-09</td><td>14.414    </td><td>61.423    </td><td>15.009    </td><td>36.089    </td><td>14.81     </td><td>27.045    </td><td>4.7142    </td><td>14.247    </td><td>14.09     </td><td>⋯         </td><td>5.4206    </td><td>21.050    </td><td>48.729    </td><td>6.2051    </td><td>19.906    </td><td>14.35     </td><td>24.216    </td><td>13.569    </td><td>17.881    </td><td>19.723    </td></tr>\n",
       "\t<tr><td>2005-05-12</td><td>14.595    </td><td>59.317    </td><td>14.516    </td><td>35.531    </td><td>14.54     </td><td>27.045    </td><td>4.7776    </td><td>14.392    </td><td>13.95     </td><td>⋯         </td><td>5.1302    </td><td>21.318    </td><td>49.440    </td><td>6.1256    </td><td>19.365    </td><td>13.88     </td><td>24.691    </td><td>13.862    </td><td>18.105    </td><td>19.595    </td></tr>\n",
       "</tbody>\n",
       "</table>\n"
      ],
      "text/latex": [
       "\\begin{tabular}{r|lllllllllllllllllllllllllllllllllllllllllllllllllllllllllllllllllllllllllllllllllllllllllllllllllllllllllllllllllllllllllllllllllllllllllllllllllllllllllllllllllllllllllllllllllllllllllllllllllllllllllllllllllllllllllllllllllllllllllllllllllllllllllllllllllllllllllllllllllllllllllllllllllllllllllllllllllllllllllllllllllllllllllllllllllllllllllllllllllllllllllllllllllllllllllllllllllllllllllllllllllllllllllllllllllllllllllllllllllllllllllllllllllllllllllllllllllllllllllllllllllllllllllllllllllllllllllllllllllllllllllllllllllllllllllllllllllllllllllllllllllllllllllllllllllllllllllllllllllllllllllllllllllllllllllllllllllllllllllllllllllllllllllllllllllllllllllllllllllllllllllllllllllllllllllllllll}\n",
       " Date & a & aa & aan & aap & aav & ab & abb & abc & abg & ⋯ & kgc & kim & kmb & kmm & kmt & kmx & knd & knl & ko & kof\\\\\n",
       "\\hline\n",
       "\t 2005-04-27 & 14.333     & 60.258     & 11.949     & 34.545     & 15.50      & 27.045     & 4.5399     & 13.553     & 14.16      & ⋯          & 5.1399     & 20.175     & 48.848     & 6.2663     & 19.714     & 14.28      & 20.627     & 14.531     & 17.352     & 20.366    \\\\\n",
       "\t 2005-04-28 & 14.211     & 59.610     & 13.850     & 34.881     & 15.12      & 27.134     & 4.5873     & 13.666     & 14.00      & ⋯          & 5.0045     & 20.477     & 49.124     & 6.2782     & 19.583     & 14.12      & 22.967     & 14.237     & 17.247     & 20.307    \\\\\n",
       "\t 2005-05-02 & 13.978     & 60.842     & 14.380     & 35.079     & 14.60      & 27.045     & 4.6586     & 13.842     & 13.65      & ⋯          & 5.1788     & 20.588     & 49.409     & 6.2482     & 19.826     & 13.60      & 22.790     & 13.613     & 17.595     & 19.723    \\\\\n",
       "\t 2005-05-04 & 14.279     & 60.927     & 14.645     & 35.019     & 14.69      & 26.162     & 4.6745     & 13.944     & 13.92      & ⋯          & 5.3433     & 20.739     & 49.416     & 6.2725     & 19.669     & 14.03      & 23.538     & 13.737     & 17.791     & 19.552    \\\\\n",
       "\t 2005-05-09 & 14.414     & 61.423     & 15.009     & 36.089     & 14.81      & 27.045     & 4.7142     & 14.247     & 14.09      & ⋯          & 5.4206     & 21.050     & 48.729     & 6.2051     & 19.906     & 14.35      & 24.216     & 13.569     & 17.881     & 19.723    \\\\\n",
       "\t 2005-05-12 & 14.595     & 59.317     & 14.516     & 35.531     & 14.54      & 27.045     & 4.7776     & 14.392     & 13.95      & ⋯          & 5.1302     & 21.318     & 49.440     & 6.1256     & 19.365     & 13.88      & 24.691     & 13.862     & 18.105     & 19.595    \\\\\n",
       "\\end{tabular}\n"
      ],
      "text/markdown": [
       "\n",
       "Date | a | aa | aan | aap | aav | ab | abb | abc | abg | ⋯ | kgc | kim | kmb | kmm | kmt | kmx | knd | knl | ko | kof | \n",
       "|---|---|---|---|---|---|\n",
       "| 2005-04-27 | 14.333     | 60.258     | 11.949     | 34.545     | 15.50      | 27.045     | 4.5399     | 13.553     | 14.16      | ⋯          | 5.1399     | 20.175     | 48.848     | 6.2663     | 19.714     | 14.28      | 20.627     | 14.531     | 17.352     | 20.366     | \n",
       "| 2005-04-28 | 14.211     | 59.610     | 13.850     | 34.881     | 15.12      | 27.134     | 4.5873     | 13.666     | 14.00      | ⋯          | 5.0045     | 20.477     | 49.124     | 6.2782     | 19.583     | 14.12      | 22.967     | 14.237     | 17.247     | 20.307     | \n",
       "| 2005-05-02 | 13.978     | 60.842     | 14.380     | 35.079     | 14.60      | 27.045     | 4.6586     | 13.842     | 13.65      | ⋯          | 5.1788     | 20.588     | 49.409     | 6.2482     | 19.826     | 13.60      | 22.790     | 13.613     | 17.595     | 19.723     | \n",
       "| 2005-05-04 | 14.279     | 60.927     | 14.645     | 35.019     | 14.69      | 26.162     | 4.6745     | 13.944     | 13.92      | ⋯          | 5.3433     | 20.739     | 49.416     | 6.2725     | 19.669     | 14.03      | 23.538     | 13.737     | 17.791     | 19.552     | \n",
       "| 2005-05-09 | 14.414     | 61.423     | 15.009     | 36.089     | 14.81      | 27.045     | 4.7142     | 14.247     | 14.09      | ⋯          | 5.4206     | 21.050     | 48.729     | 6.2051     | 19.906     | 14.35      | 24.216     | 13.569     | 17.881     | 19.723     | \n",
       "| 2005-05-12 | 14.595     | 59.317     | 14.516     | 35.531     | 14.54      | 27.045     | 4.7776     | 14.392     | 13.95      | ⋯          | 5.1302     | 21.318     | 49.440     | 6.1256     | 19.365     | 13.88      | 24.691     | 13.862     | 18.105     | 19.595     | \n",
       "\n",
       "\n"
      ],
      "text/plain": [
       "  Date       a      aa     aan    aap    aav   ab     abb    abc    abg   ⋯\n",
       "1 2005-04-27 14.333 60.258 11.949 34.545 15.50 27.045 4.5399 13.553 14.16 ⋯\n",
       "2 2005-04-28 14.211 59.610 13.850 34.881 15.12 27.134 4.5873 13.666 14.00 ⋯\n",
       "3 2005-05-02 13.978 60.842 14.380 35.079 14.60 27.045 4.6586 13.842 13.65 ⋯\n",
       "4 2005-05-04 14.279 60.927 14.645 35.019 14.69 26.162 4.6745 13.944 13.92 ⋯\n",
       "5 2005-05-09 14.414 61.423 15.009 36.089 14.81 27.045 4.7142 14.247 14.09 ⋯\n",
       "6 2005-05-12 14.595 59.317 14.516 35.531 14.54 27.045 4.7776 14.392 13.95 ⋯\n",
       "  kgc    kim    kmb    kmm    kmt    kmx   knd    knl    ko     kof   \n",
       "1 5.1399 20.175 48.848 6.2663 19.714 14.28 20.627 14.531 17.352 20.366\n",
       "2 5.0045 20.477 49.124 6.2782 19.583 14.12 22.967 14.237 17.247 20.307\n",
       "3 5.1788 20.588 49.409 6.2482 19.826 13.60 22.790 13.613 17.595 19.723\n",
       "4 5.3433 20.739 49.416 6.2725 19.669 14.03 23.538 13.737 17.791 19.552\n",
       "5 5.4206 21.050 48.729 6.2051 19.906 14.35 24.216 13.569 17.881 19.723\n",
       "6 5.1302 21.318 49.440 6.1256 19.365 13.88 24.691 13.862 18.105 19.595"
      ]
     },
     "metadata": {},
     "output_type": "display_data"
    }
   ],
   "source": [
    "missing_rate = colMeans(is.na(stock_prices))\n",
    "partial_stock_prices = stock_prices %>% select(which(missing_rate < .3))                            \n",
    "complete_stock_prices = partial_stock_prices %>% filter(complete.cases(partial_stock_prices))\n",
    "print(dim(complete_stock_prices))\n",
    "head(complete_stock_prices)"
   ]
  },
  {
   "cell_type": "markdown",
   "metadata": {},
   "source": [
    "## calculate the return"
   ]
  },
  {
   "cell_type": "code",
   "execution_count": 20,
   "metadata": {
    "collapsed": false
   },
   "outputs": [
    {
     "data": {
      "text/html": [
       "<table>\n",
       "<thead><tr><th></th><th scope=col>a</th><th scope=col>aa</th><th scope=col>aan</th><th scope=col>aap</th><th scope=col>aav</th><th scope=col>ab</th><th scope=col>abb</th><th scope=col>abc</th><th scope=col>abg</th><th scope=col>abm</th><th scope=col>⋯</th><th scope=col>kgc</th><th scope=col>kim</th><th scope=col>kmb</th><th scope=col>kmm</th><th scope=col>kmt</th><th scope=col>kmx</th><th scope=col>knd</th><th scope=col>knl</th><th scope=col>ko</th><th scope=col>kof</th></tr></thead>\n",
       "<tbody>\n",
       "\t<tr><th scope=row>2005-04-28</th><td>-0.007956695 </td><td>-0.01057821  </td><td> 0.146806703 </td><td> 0.009452806 </td><td>-0.023030303 </td><td> 0.003173471 </td><td> 0.008556111 </td><td>0.007764722  </td><td>-0.010554090 </td><td>-0.008777167 </td><td>⋯            </td><td>-0.02205248  </td><td> 0.014262102 </td><td> 0.0055368320</td><td> 0.001637697 </td><td>-0.006324225 </td><td>-0.01047120  </td><td> 0.108198086 </td><td>-0.018929882 </td><td>-0.005721447 </td><td>-0.002761397 </td></tr>\n",
       "\t<tr><th scope=row>2005-05-02</th><td>-0.015317862 </td><td> 0.02032668  </td><td> 0.035690236 </td><td> 0.005518241 </td><td>-0.032258065 </td><td>-0.003163432 </td><td> 0.012761083 </td><td>0.012000545  </td><td>-0.023333333 </td><td>-0.005120173 </td><td>⋯            </td><td> 0.02902823  </td><td> 0.005168320 </td><td> 0.0056858990</td><td>-0.004121898 </td><td> 0.011805859 </td><td>-0.03439153  </td><td>-0.007385155 </td><td>-0.040952943 </td><td> 0.019071628 </td><td>-0.027408833 </td></tr>\n",
       "\t<tr><th scope=row>2005-05-04</th><td> 0.020096141 </td><td> 0.00137447  </td><td> 0.017230169 </td><td>-0.001663017 </td><td> 0.005769231 </td><td>-0.031485113 </td><td> 0.002809882 </td><td>0.006872389  </td><td> 0.018430034 </td><td> 0.009324292 </td><td>⋯            </td><td> 0.02662329  </td><td> 0.006994627 </td><td> 0.0001388641</td><td> 0.003352556 </td><td>-0.007538654 </td><td> 0.02945205  </td><td> 0.031441782 </td><td> 0.008485595 </td><td> 0.010540468 </td><td>-0.008251701 </td></tr>\n",
       "\t<tr><th scope=row>2005-05-09</th><td> 0.008835657 </td><td> 0.00800943  </td><td> 0.023266219 </td><td> 0.029706544 </td><td> 0.007648184 </td><td> 0.032508652 </td><td> 0.006996211 </td><td>0.020275696  </td><td> 0.011394102 </td><td> 0.016376725 </td><td>⋯            </td><td> 0.01218609  </td><td> 0.014306086 </td><td>-0.0136266265</td><td>-0.009267790 </td><td> 0.011466447 </td><td> 0.02129075  </td><td> 0.027630614 </td><td>-0.011399878 </td><td> 0.004789527 </td><td> 0.008320358 </td></tr>\n",
       "\t<tr><th scope=row>2005-05-12</th><td> 0.011742572 </td><td>-0.03373756  </td><td>-0.030795178 </td><td>-0.015044892 </td><td>-0.017077799 </td><td> 0.000000000 </td><td> 0.011095166 </td><td>0.009510068  </td><td>-0.009277667 </td><td> 0.003069114 </td><td>⋯            </td><td>-0.04522942  </td><td> 0.012154195 </td><td> 0.0142974924</td><td>-0.011033851 </td><td>-0.025877738 </td><td>-0.03061889  </td><td> 0.018837246 </td><td> 0.020111195 </td><td> 0.011863778 </td><td>-0.006176712 </td></tr>\n",
       "\t<tr><th scope=row>2005-05-16</th><td> 0.007823020 </td><td>-0.06616708  </td><td>-0.001288992 </td><td>-0.011579207 </td><td>-0.080437580 </td><td>-0.005134605 </td><td>-0.008221407 </td><td>0.005197505  </td><td>-0.010033445 </td><td>-0.019123272 </td><td>⋯            </td><td>-0.06471241  </td><td>-0.015996057 </td><td>-0.0062648692</td><td> 0.002568205 </td><td>-0.033734348 </td><td>-0.02620968  </td><td> 0.018566813 </td><td>-0.005450141 </td><td>-0.011462968 </td><td>-0.007137655 </td></tr>\n",
       "</tbody>\n",
       "</table>\n"
      ],
      "text/latex": [
       "\\begin{tabular}{r|llllllllllllllllllllllllllllllllllllllllllllllllllllllllllllllllllllllllllllllllllllllllllllllllllllllllllllllllllllllllllllllllllllllllllllllllllllllllllllllllllllllllllllllllllllllllllllllllllllllllllllllllllllllllllllllllllllllllllllllllllllllllllllllllllllllllllllllllllllllllllllllllllllllllllllllllllllllllllllllllllllllllllllllllllllllllllllllllllllllllllllllllllllllllllllllllllllllllllllllllllllllllllllllllllllllllllllllllllllllllllllllllllllllllllllllllllllllllllllllllllllllllllllllllllllllllllllllllllllllllllllllllllllllllllllllllllllllllllllllllllllllllllllllllllllllllllllllllllllllllllllllllllllllllllllllllllllllllllllllllllllllllllllllllllllllllllllllllllllllllllllllllllllllllllllll}\n",
       "  & a & aa & aan & aap & aav & ab & abb & abc & abg & abm & ⋯ & kgc & kim & kmb & kmm & kmt & kmx & knd & knl & ko & kof\\\\\n",
       "\\hline\n",
       "\t2005-04-28 & -0.007956695  & -0.01057821   &  0.146806703  &  0.009452806  & -0.023030303  &  0.003173471  &  0.008556111  & 0.007764722   & -0.010554090  & -0.008777167  & ⋯             & -0.02205248   &  0.014262102  &  0.0055368320 &  0.001637697  & -0.006324225  & -0.01047120   &  0.108198086  & -0.018929882  & -0.005721447  & -0.002761397 \\\\\n",
       "\t2005-05-02 & -0.015317862  &  0.02032668   &  0.035690236  &  0.005518241  & -0.032258065  & -0.003163432  &  0.012761083  & 0.012000545   & -0.023333333  & -0.005120173  & ⋯             &  0.02902823   &  0.005168320  &  0.0056858990 & -0.004121898  &  0.011805859  & -0.03439153   & -0.007385155  & -0.040952943  &  0.019071628  & -0.027408833 \\\\\n",
       "\t2005-05-04 &  0.020096141  &  0.00137447   &  0.017230169  & -0.001663017  &  0.005769231  & -0.031485113  &  0.002809882  & 0.006872389   &  0.018430034  &  0.009324292  & ⋯             &  0.02662329   &  0.006994627  &  0.0001388641 &  0.003352556  & -0.007538654  &  0.02945205   &  0.031441782  &  0.008485595  &  0.010540468  & -0.008251701 \\\\\n",
       "\t2005-05-09 &  0.008835657  &  0.00800943   &  0.023266219  &  0.029706544  &  0.007648184  &  0.032508652  &  0.006996211  & 0.020275696   &  0.011394102  &  0.016376725  & ⋯             &  0.01218609   &  0.014306086  & -0.0136266265 & -0.009267790  &  0.011466447  &  0.02129075   &  0.027630614  & -0.011399878  &  0.004789527  &  0.008320358 \\\\\n",
       "\t2005-05-12 &  0.011742572  & -0.03373756   & -0.030795178  & -0.015044892  & -0.017077799  &  0.000000000  &  0.011095166  & 0.009510068   & -0.009277667  &  0.003069114  & ⋯             & -0.04522942   &  0.012154195  &  0.0142974924 & -0.011033851  & -0.025877738  & -0.03061889   &  0.018837246  &  0.020111195  &  0.011863778  & -0.006176712 \\\\\n",
       "\t2005-05-16 &  0.007823020  & -0.06616708   & -0.001288992  & -0.011579207  & -0.080437580  & -0.005134605  & -0.008221407  & 0.005197505   & -0.010033445  & -0.019123272  & ⋯             & -0.06471241   & -0.015996057  & -0.0062648692 &  0.002568205  & -0.033734348  & -0.02620968   &  0.018566813  & -0.005450141  & -0.011462968  & -0.007137655 \\\\\n",
       "\\end{tabular}\n"
      ],
      "text/markdown": [
       "\n",
       "| <!--/--> | a | aa | aan | aap | aav | ab | abb | abc | abg | abm | ⋯ | kgc | kim | kmb | kmm | kmt | kmx | knd | knl | ko | kof | \n",
       "|---|---|---|---|---|---|\n",
       "| 2005-04-28 | -0.007956695  | -0.01057821   |  0.146806703  |  0.009452806  | -0.023030303  |  0.003173471  |  0.008556111  | 0.007764722   | -0.010554090  | -0.008777167  | ⋯             | -0.02205248   |  0.014262102  |  0.0055368320 |  0.001637697  | -0.006324225  | -0.01047120   |  0.108198086  | -0.018929882  | -0.005721447  | -0.002761397  | \n",
       "| 2005-05-02 | -0.015317862  |  0.02032668   |  0.035690236  |  0.005518241  | -0.032258065  | -0.003163432  |  0.012761083  | 0.012000545   | -0.023333333  | -0.005120173  | ⋯             |  0.02902823   |  0.005168320  |  0.0056858990 | -0.004121898  |  0.011805859  | -0.03439153   | -0.007385155  | -0.040952943  |  0.019071628  | -0.027408833  | \n",
       "| 2005-05-04 |  0.020096141  |  0.00137447   |  0.017230169  | -0.001663017  |  0.005769231  | -0.031485113  |  0.002809882  | 0.006872389   |  0.018430034  |  0.009324292  | ⋯             |  0.02662329   |  0.006994627  |  0.0001388641 |  0.003352556  | -0.007538654  |  0.02945205   |  0.031441782  |  0.008485595  |  0.010540468  | -0.008251701  | \n",
       "| 2005-05-09 |  0.008835657  |  0.00800943   |  0.023266219  |  0.029706544  |  0.007648184  |  0.032508652  |  0.006996211  | 0.020275696   |  0.011394102  |  0.016376725  | ⋯             |  0.01218609   |  0.014306086  | -0.0136266265 | -0.009267790  |  0.011466447  |  0.02129075   |  0.027630614  | -0.011399878  |  0.004789527  |  0.008320358  | \n",
       "| 2005-05-12 |  0.011742572  | -0.03373756   | -0.030795178  | -0.015044892  | -0.017077799  |  0.000000000  |  0.011095166  | 0.009510068   | -0.009277667  |  0.003069114  | ⋯             | -0.04522942   |  0.012154195  |  0.0142974924 | -0.011033851  | -0.025877738  | -0.03061889   |  0.018837246  |  0.020111195  |  0.011863778  | -0.006176712  | \n",
       "| 2005-05-16 |  0.007823020  | -0.06616708   | -0.001288992  | -0.011579207  | -0.080437580  | -0.005134605  | -0.008221407  | 0.005197505   | -0.010033445  | -0.019123272  | ⋯             | -0.06471241   | -0.015996057  | -0.0062648692 |  0.002568205  | -0.033734348  | -0.02620968   |  0.018566813  | -0.005450141  | -0.011462968  | -0.007137655  | \n",
       "\n",
       "\n"
      ],
      "text/plain": [
       "           a            aa          aan          aap          aav         \n",
       "2005-04-28 -0.007956695 -0.01057821  0.146806703  0.009452806 -0.023030303\n",
       "2005-05-02 -0.015317862  0.02032668  0.035690236  0.005518241 -0.032258065\n",
       "2005-05-04  0.020096141  0.00137447  0.017230169 -0.001663017  0.005769231\n",
       "2005-05-09  0.008835657  0.00800943  0.023266219  0.029706544  0.007648184\n",
       "2005-05-12  0.011742572 -0.03373756 -0.030795178 -0.015044892 -0.017077799\n",
       "2005-05-16  0.007823020 -0.06616708 -0.001288992 -0.011579207 -0.080437580\n",
       "           ab           abb          abc         abg          abm          ⋯\n",
       "2005-04-28  0.003173471  0.008556111 0.007764722 -0.010554090 -0.008777167 ⋯\n",
       "2005-05-02 -0.003163432  0.012761083 0.012000545 -0.023333333 -0.005120173 ⋯\n",
       "2005-05-04 -0.031485113  0.002809882 0.006872389  0.018430034  0.009324292 ⋯\n",
       "2005-05-09  0.032508652  0.006996211 0.020275696  0.011394102  0.016376725 ⋯\n",
       "2005-05-12  0.000000000  0.011095166 0.009510068 -0.009277667  0.003069114 ⋯\n",
       "2005-05-16 -0.005134605 -0.008221407 0.005197505 -0.010033445 -0.019123272 ⋯\n",
       "           kgc         kim          kmb           kmm          kmt         \n",
       "2005-04-28 -0.02205248  0.014262102  0.0055368320  0.001637697 -0.006324225\n",
       "2005-05-02  0.02902823  0.005168320  0.0056858990 -0.004121898  0.011805859\n",
       "2005-05-04  0.02662329  0.006994627  0.0001388641  0.003352556 -0.007538654\n",
       "2005-05-09  0.01218609  0.014306086 -0.0136266265 -0.009267790  0.011466447\n",
       "2005-05-12 -0.04522942  0.012154195  0.0142974924 -0.011033851 -0.025877738\n",
       "2005-05-16 -0.06471241 -0.015996057 -0.0062648692  0.002568205 -0.033734348\n",
       "           kmx         knd          knl          ko           kof         \n",
       "2005-04-28 -0.01047120  0.108198086 -0.018929882 -0.005721447 -0.002761397\n",
       "2005-05-02 -0.03439153 -0.007385155 -0.040952943  0.019071628 -0.027408833\n",
       "2005-05-04  0.02945205  0.031441782  0.008485595  0.010540468 -0.008251701\n",
       "2005-05-09  0.02129075  0.027630614 -0.011399878  0.004789527  0.008320358\n",
       "2005-05-12 -0.03061889  0.018837246  0.020111195  0.011863778 -0.006176712\n",
       "2005-05-16 -0.02620968  0.018566813 -0.005450141 -0.011462968 -0.007137655"
      ]
     },
     "metadata": {},
     "output_type": "display_data"
    }
   ],
   "source": [
    "num_days = nrow(complete_stock_prices)\n",
    "num_cols = ncol(complete_stock_prices)\n",
    "stock_return = (complete_stock_prices[-1,2:num_cols] - complete_stock_prices[-num_days,2:num_cols])/(1 + complete_stock_prices[-num_days,2:num_cols])\n",
    "rownames(stock_return) = complete_stock_prices$Date[-1]\n",
    "num_stocks = num_cols - 1\n",
    "head(stock_return)"
   ]
  },
  {
   "cell_type": "markdown",
   "metadata": {},
   "source": [
    "## save the workspace"
   ]
  },
  {
   "cell_type": "code",
   "execution_count": 10,
   "metadata": {
    "collapsed": true
   },
   "outputs": [],
   "source": [
    "save.image('workspace.RData')"
   ]
  },
  {
   "cell_type": "code",
   "execution_count": 2,
   "metadata": {
    "collapsed": true
   },
   "outputs": [],
   "source": [
    "load('workspace.RData')"
   ]
  },
  {
   "cell_type": "markdown",
   "metadata": {},
   "source": [
    "## CAPM model\n",
    "- Suppose we have $p$ stocks at $n$ days, and their expected return $c\\in \\mathbb{R}^{p\\times 1}$, and their covariance matrix is $X \\in \\mathbb{R}^{p\\times p}$\n",
    "- For a weighted portfolio with weights $w\\in \\mathbb{R}^{p\\times 1}$, the expected return is $c^Tw$ and the variance is $w^TXw$. \n",
    "- We want to minimize the variance as well as maximize the expected return, which can be achieved by\n",
    "\n",
    "$$\n",
    "\\textrm{minimize  } -c^Tw + \\frac{\\gamma}{2}w^TXw,  \\textrm{subject to  } \\mathbf{1}^Tw = 1, w \\geq 0,\n",
    "$$\n",
    "where $\\gamma > 0$ is a positive real number.\n",
    "\n",
    "- This is a convex quadratic programming problem.\n",
    "- With risk-free bond return, we get the optimal $w^*$"
   ]
  },
  {
   "cell_type": "code",
   "execution_count": 21,
   "metadata": {
    "collapsed": true
   },
   "outputs": [],
   "source": [
    "gammas = exp(-10:10)\n",
    "n = num_stocks\n",
    "weights = matrix(NA, nrow = length(gammas), ncol = n)\n",
    "c = as.vector(colMeans(stock_return))\n",
    "X = cov(stock_return) \n",
    "for (i in 1:length(gammas)){\n",
    "    gamma = gammas[i]\n",
    "    Amat = cbind(rep(1, n), diag(1, n))\n",
    "    bvec = as.vector(c(1, rep(0, n)))\n",
    "    out = solve.QP(dvec = c/gamma, Dmat = X, Amat = Amat, factorized = FALSE, bvec = bvec, meq = 1)\n",
    "    weights[i, ] = out$solution\n",
    "}"
   ]
  },
  {
   "cell_type": "code",
   "execution_count": 26,
   "metadata": {
    "collapsed": false
   },
   "outputs": [
    {
     "name": "stderr",
     "output_type": "stream",
     "text": [
      "Warning message:\n",
      "“Removed 8 rows containing missing values (geom_path).”"
     ]
    },
    {
     "data": {},
     "metadata": {},
     "output_type": "display_data"
    },
    {
     "data": {
      "image/png": "[encoded data removed]",
      "text/plain": [
       "plot without title"
      ]
     },
     "metadata": {},
     "output_type": "display_data"
    }
   ],
   "source": [
    "data = data.frame(return = weights %*% c, std = sqrt(diag(weights %*% X %*% t(weights))))\n",
    "data %>% ggplot() + geom_line(aes(x = std, y = return)) + xlim(0, .25) + ylim(0, .01)"
   ]
  },
  {
   "cell_type": "code",
   "execution_count": null,
   "metadata": {
    "collapsed": true
   },
   "outputs": [],
   "source": []
  }
 ],
 "metadata": {
  "kernelspec": {
   "display_name": "R",
   "language": "R",
   "name": "ir"
  },
  "language_info": {
   "codemirror_mode": "r",
   "file_extension": ".r",
   "mimetype": "text/x-r-source",
   "name": "R",
   "pygments_lexer": "r",
   "version": "3.4.3"
  }
 },
 "nbformat": 4,
 "nbformat_minor": 1
}
